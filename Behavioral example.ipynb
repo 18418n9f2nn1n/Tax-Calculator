{
 "metadata": {
  "name": "",
  "signature": "sha256:6c7c16ed0d844a75a587e82b50eea89329e5050466287094c4bfc5c4cc7d1b5d"
 },
 "nbformat": 3,
 "nbformat_minor": 0,
 "worksheets": [
  {
   "cells": [
    {
     "cell_type": "code",
     "collapsed": false,
     "input": [
      "cd /Users/Matt.Jensen/proj/Tax-Calculator"
     ],
     "language": "python",
     "metadata": {},
     "outputs": [
      {
       "output_type": "stream",
       "stream": "stdout",
       "text": [
        "/Users/Matt.Jensen/proj/Tax-Calculator\n"
       ]
      }
     ],
     "prompt_number": 1
    },
    {
     "cell_type": "code",
     "collapsed": false,
     "input": [
      "from taxcalc import Calculator, PUF, Parameters, calculator, Behavior, behavior\n",
      "\n",
      "import pandas as pd\n"
     ],
     "language": "python",
     "metadata": {},
     "outputs": [],
     "prompt_number": 2
    },
    {
     "cell_type": "code",
     "collapsed": false,
     "input": [
      "tax_dta = pd.read_csv(\"puf2.csv\")\n",
      "records1 = PUF(tax_dta)\n",
      "records2 = PUF(tax_dta)\n",
      "params1 = Parameters(start_year=2013)\n",
      "params2 = Parameters(start_year=2013)"
     ],
     "language": "python",
     "metadata": {},
     "outputs": [],
     "prompt_number": 3
    },
    {
     "cell_type": "code",
     "collapsed": false,
     "input": [
      "calc1 = Calculator(params1, records1)\n",
      "calc2 = Calculator(params2, records2)\n",
      "print calc2.e00200\n",
      "\n"
     ],
     "language": "python",
     "metadata": {},
     "outputs": [
      {
       "output_type": "stream",
       "stream": "stdout",
       "text": [
        "[ 26280  19280  28740 ..., 271100      0  38180]\n"
       ]
      }
     ],
     "prompt_number": 4
    },
    {
     "cell_type": "code",
     "collapsed": false,
     "input": [
      "calc2.rt7 = calc2.rt7 + .1\n",
      "print calc1.rt7\n",
      "print calc2.rt7"
     ],
     "language": "python",
     "metadata": {},
     "outputs": [
      {
       "output_type": "stream",
       "stream": "stdout",
       "text": [
        "0.396\n",
        "0.496\n"
       ]
      }
     ],
     "prompt_number": 5
    },
    {
     "cell_type": "code",
     "collapsed": false,
     "input": [
      "calc2 = Behavior(calc1, calc2).calc"
     ],
     "language": "python",
     "metadata": {},
     "outputs": [],
     "prompt_number": 6
    },
    {
     "cell_type": "code",
     "collapsed": false,
     "input": [
      "print calc2.e00200\n"
     ],
     "language": "python",
     "metadata": {},
     "outputs": [
      {
       "output_type": "stream",
       "stream": "stdout",
       "text": [
        "[  26280.           19280.           28740.         ...,  267674.70752969\n",
        "       0.           38180.        ]\n"
       ]
      }
     ],
     "prompt_number": 7
    },
    {
     "cell_type": "markdown",
     "metadata": {},
     "source": [
      "At this point you would run `calc2.calc_all()` to get your new tax liability \n"
     ]
    },
    {
     "cell_type": "code",
     "collapsed": false,
     "input": [],
     "language": "python",
     "metadata": {},
     "outputs": []
    }
   ],
   "metadata": {}
  }
 ]
}
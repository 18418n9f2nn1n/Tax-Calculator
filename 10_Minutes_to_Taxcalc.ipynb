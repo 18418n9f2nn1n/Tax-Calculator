{
 "metadata": {
  "name": "",
  "signature": "sha256:f99d80a3edabc599d4048239cffb78ac003f2a7dc68f13dd14b7327f31accdb7"
 },
 "nbformat": 3,
 "nbformat_minor": 0,
 "worksheets": [
  {
   "cells": [
    {
     "cell_type": "heading",
     "level": 1,
     "metadata": {},
     "source": [
      "How to use the Tax Calculator"
     ]
    },
    {
     "cell_type": "markdown",
     "metadata": {},
     "source": [
      "All kinds of great text can go here, with [links](http://www.nber.org) to relevant sites!"
     ]
    },
    {
     "cell_type": "heading",
     "level": 3,
     "metadata": {},
     "source": [
      "This is where we can put some great documentation"
     ]
    },
    {
     "cell_type": "heading",
     "level": 3,
     "metadata": {},
     "source": [
      "Different headings are available, and then you can go right to the code:"
     ]
    },
    {
     "cell_type": "code",
     "collapsed": false,
     "input": [
      "import taxcalc\n",
      "from taxcalc import *\n",
      "import pandas as pd\n",
      "from pandas import DataFrame"
     ],
     "language": "python",
     "metadata": {},
     "outputs": [],
     "prompt_number": 1
    },
    {
     "cell_type": "heading",
     "level": 3,
     "metadata": {},
     "source": [
      "Start with a Baseline Law"
     ]
    },
    {
     "cell_type": "code",
     "collapsed": false,
     "input": [
      "#BaselinePlans\n",
      "#Create a Public Use File object\n",
      "tax_dta = pd.read_csv(\"puf2.csv\")\n",
      "# Create a default Parameters object\n",
      "params = Parameters(start_year=2013)\n",
      "records = PUF(tax_dta)\n",
      "# Create a Calculator\n",
      "calc1 = Calculator(parameters=params, puf=records)\n"
     ],
     "language": "python",
     "metadata": {},
     "outputs": [],
     "prompt_number": 2
    },
    {
     "cell_type": "heading",
     "level": 3,
     "metadata": {},
     "source": [
      "Then modify the existing tax code parameters"
     ]
    },
    {
     "cell_type": "code",
     "collapsed": false,
     "input": [
      "#user_mods = '{\"_rt4\": [0.76]}'"
     ],
     "language": "python",
     "metadata": {},
     "outputs": [],
     "prompt_number": 3
    },
    {
     "cell_type": "code",
     "collapsed": false,
     "input": [
      "# User specified Plans\n",
      "params = Parameters(start_year=2013)\n",
      "# Create a Calculator\n",
      "calc2 = calculator(parameters=params, puf=records)"
     ],
     "language": "python",
     "metadata": {},
     "outputs": [],
     "prompt_number": 5
    },
    {
     "cell_type": "code",
     "collapsed": false,
     "input": [],
     "language": "python",
     "metadata": {},
     "outputs": [
      {
       "metadata": {},
       "output_type": "pyout",
       "prompt_number": 35,
       "text": [
        "array([ 0.,  0.,  0., ...,  0.,  0.,  0.])"
       ]
      }
     ],
     "prompt_number": 35
    },
    {
     "cell_type": "code",
     "collapsed": false,
     "input": [
      "calc1.rt4"
     ],
     "language": "python",
     "metadata": {},
     "outputs": [
      {
       "metadata": {},
       "output_type": "pyout",
       "prompt_number": 20,
       "text": [
        "0.28000000000000003"
       ]
      }
     ],
     "prompt_number": 20
    },
    {
     "cell_type": "heading",
     "level": 3,
     "metadata": {},
     "source": [
      "Do the work!"
     ]
    },
    {
     "cell_type": "code",
     "collapsed": false,
     "input": [
      "%time calc1.calc_all()"
     ],
     "language": "python",
     "metadata": {},
     "outputs": [
      {
       "output_type": "stream",
       "stream": "stdout",
       "text": [
        "CPU times: user 477 ms, sys: 52.3 ms, total: 529 ms\n",
        "Wall time: 529 ms\n"
       ]
      }
     ],
     "prompt_number": 8
    },
    {
     "cell_type": "code",
     "collapsed": false,
     "input": [
      "calc1.c00100.mean()"
     ],
     "language": "python",
     "metadata": {},
     "outputs": [
      {
       "metadata": {},
       "output_type": "pyout",
       "prompt_number": 10,
       "text": [
        "794787.95134102157"
       ]
      }
     ],
     "prompt_number": 10
    },
    {
     "cell_type": "code",
     "collapsed": false,
     "input": [
      "calc1.c04800.mean()"
     ],
     "language": "python",
     "metadata": {},
     "outputs": [
      {
       "metadata": {},
       "output_type": "pyout",
       "prompt_number": 15,
       "text": [
        "732664.45949017513"
       ]
      }
     ],
     "prompt_number": 15
    },
    {
     "cell_type": "code",
     "collapsed": false,
     "input": [],
     "language": "python",
     "metadata": {},
     "outputs": []
    },
    {
     "cell_type": "code",
     "collapsed": false,
     "input": [
      "calc2.e00200 += 1000"
     ],
     "language": "python",
     "metadata": {},
     "outputs": [],
     "prompt_number": 11
    },
    {
     "cell_type": "code",
     "collapsed": false,
     "input": [
      "calc2.calc_all()"
     ],
     "language": "python",
     "metadata": {},
     "outputs": [],
     "prompt_number": 12
    },
    {
     "cell_type": "code",
     "collapsed": false,
     "input": [
      "calc2.c00100.mean()"
     ],
     "language": "python",
     "metadata": {},
     "outputs": [
      {
       "metadata": {},
       "output_type": "pyout",
       "prompt_number": 13,
       "text": [
        "795810.42915822286"
       ]
      }
     ],
     "prompt_number": 13
    },
    {
     "cell_type": "code",
     "collapsed": false,
     "input": [
      "calc2.c04800.mean()"
     ],
     "language": "python",
     "metadata": {},
     "outputs": [
      {
       "metadata": {},
       "output_type": "pyout",
       "prompt_number": 16,
       "text": [
        "732664.45949017513"
       ]
      }
     ],
     "prompt_number": 16
    },
    {
     "cell_type": "code",
     "collapsed": false,
     "input": [
      "calc1.c05200 - calc2.c05200"
     ],
     "language": "python",
     "metadata": {},
     "outputs": [
      {
       "metadata": {},
       "output_type": "pyout",
       "prompt_number": 27,
       "text": [
        "array([ 0.,  0.,  0., ...,  0.,  0.,  0.])"
       ]
      }
     ],
     "prompt_number": 27
    },
    {
     "cell_type": "code",
     "collapsed": false,
     "input": [
      "meansY_dec, diffs_dec, meansY_bins, diffs_bins = create_tables(calc1, calc2)"
     ],
     "language": "python",
     "metadata": {},
     "outputs": [],
     "prompt_number": 23
    },
    {
     "cell_type": "heading",
     "level": 3,
     "metadata": {},
     "source": [
      "distribution table"
     ]
    },
    {
     "cell_type": "code",
     "collapsed": false,
     "input": [
      "meansY_dec"
     ],
     "language": "python",
     "metadata": {},
     "outputs": [
      {
       "html": [
        "<div style=\"max-height:1000px;max-width:1500px;overflow:auto;\">\n",
        "<table border=\"1\" class=\"dataframe\">\n",
        "  <thead>\n",
        "    <tr style=\"text-align: right;\">\n",
        "      <th></th>\n",
        "      <th>c00100</th>\n",
        "      <th>c04100</th>\n",
        "      <th>c04470</th>\n",
        "      <th>c04800</th>\n",
        "      <th>c05200</th>\n",
        "      <th>c09600</th>\n",
        "      <th>c07100</th>\n",
        "      <th>c09200</th>\n",
        "      <th>_refund</th>\n",
        "      <th>_ospctax</th>\n",
        "      <th>c10300</th>\n",
        "      <th>e00100</th>\n",
        "      <th>s006</th>\n",
        "      <th>cumsum_weights</th>\n",
        "      <th>tax_diff</th>\n",
        "    </tr>\n",
        "    <tr>\n",
        "      <th>wdecs</th>\n",
        "      <th></th>\n",
        "      <th></th>\n",
        "      <th></th>\n",
        "      <th></th>\n",
        "      <th></th>\n",
        "      <th></th>\n",
        "      <th></th>\n",
        "      <th></th>\n",
        "      <th></th>\n",
        "      <th></th>\n",
        "      <th></th>\n",
        "      <th></th>\n",
        "      <th></th>\n",
        "      <th></th>\n",
        "      <th></th>\n",
        "    </tr>\n",
        "  </thead>\n",
        "  <tbody>\n",
        "    <tr>\n",
        "      <th>(0, 1425774560.8]</th>\n",
        "      <td> -378616.878933</td>\n",
        "      <td> 4795.945705</td>\n",
        "      <td>   4930.988638</td>\n",
        "      <td>      57.555292</td>\n",
        "      <td>      5.755529</td>\n",
        "      <td> 16334.883778</td>\n",
        "      <td>    15.991279</td>\n",
        "      <td>  17188.373897</td>\n",
        "      <td>  112.518706</td>\n",
        "      <td>  17075.855191</td>\n",
        "      <td>  17182.964194</td>\n",
        "      <td> -577699.051836</td>\n",
        "      <td> 112825.931861</td>\n",
        "      <td> 3.762636e+08</td>\n",
        "      <td> 0</td>\n",
        "    </tr>\n",
        "    <tr>\n",
        "      <th>(1425774560.8, 2851549121.6]</th>\n",
        "      <td>    8063.666633</td>\n",
        "      <td> 1986.477609</td>\n",
        "      <td>   2206.630780</td>\n",
        "      <td>    1799.835413</td>\n",
        "      <td>    180.009313</td>\n",
        "      <td>   322.996661</td>\n",
        "      <td>     8.913649</td>\n",
        "      <td>    780.378860</td>\n",
        "      <td>  691.432278</td>\n",
        "      <td>     88.946582</td>\n",
        "      <td>    672.435026</td>\n",
        "      <td>    5192.089848</td>\n",
        "      <td> 218953.482261</td>\n",
        "      <td> 2.148335e+09</td>\n",
        "      <td> 0</td>\n",
        "    </tr>\n",
        "    <tr>\n",
        "      <th>(2851549121.6, 4277323682.4]</th>\n",
        "      <td>   14019.336573</td>\n",
        "      <td> 1621.958699</td>\n",
        "      <td>   3197.834089</td>\n",
        "      <td>    4950.617503</td>\n",
        "      <td>    517.601919</td>\n",
        "      <td>   204.010324</td>\n",
        "      <td>    86.064329</td>\n",
        "      <td>   1035.519470</td>\n",
        "      <td> 1329.553298</td>\n",
        "      <td>   -294.033828</td>\n",
        "      <td>    812.852469</td>\n",
        "      <td>   10274.776702</td>\n",
        "      <td> 215739.119667</td>\n",
        "      <td> 3.560806e+09</td>\n",
        "      <td> 0</td>\n",
        "    </tr>\n",
        "    <tr>\n",
        "      <th>(4277323682.4, 5703098243.2]</th>\n",
        "      <td>   20385.448886</td>\n",
        "      <td> 1309.247603</td>\n",
        "      <td>   4169.295710</td>\n",
        "      <td>    9505.866713</td>\n",
        "      <td>   1075.731430</td>\n",
        "      <td>   281.125864</td>\n",
        "      <td>   194.325979</td>\n",
        "      <td>   1537.244108</td>\n",
        "      <td> 1176.942064</td>\n",
        "      <td>    360.302044</td>\n",
        "      <td>   1376.607748</td>\n",
        "      <td>   19057.166254</td>\n",
        "      <td> 220458.579493</td>\n",
        "      <td> 4.990454e+09</td>\n",
        "      <td> 0</td>\n",
        "    </tr>\n",
        "    <tr>\n",
        "      <th>(5703098243.2, 7128872804]</th>\n",
        "      <td>   27911.141907</td>\n",
        "      <td> 1086.668125</td>\n",
        "      <td>   5426.389532</td>\n",
        "      <td>   15057.624006</td>\n",
        "      <td>   1805.838794</td>\n",
        "      <td>   524.644823</td>\n",
        "      <td>   298.489639</td>\n",
        "      <td>   2460.765273</td>\n",
        "      <td>  856.584117</td>\n",
        "      <td>   1604.181156</td>\n",
        "      <td>   2332.366158</td>\n",
        "      <td>   24107.393423</td>\n",
        "      <td> 215106.006939</td>\n",
        "      <td> 6.417199e+09</td>\n",
        "      <td> 0</td>\n",
        "    </tr>\n",
        "    <tr>\n",
        "      <th>(7128872804, 8554647364.8]</th>\n",
        "      <td>   37219.055781</td>\n",
        "      <td> 1071.944001</td>\n",
        "      <td>   8139.944400</td>\n",
        "      <td>   21901.541384</td>\n",
        "      <td>   2750.774884</td>\n",
        "      <td>   932.884519</td>\n",
        "      <td>   336.862740</td>\n",
        "      <td>   3849.897108</td>\n",
        "      <td>  362.587897</td>\n",
        "      <td>   3487.309211</td>\n",
        "      <td>   3806.967022</td>\n",
        "      <td>   26848.239954</td>\n",
        "      <td> 206861.772378</td>\n",
        "      <td> 7.852203e+09</td>\n",
        "      <td> 0</td>\n",
        "    </tr>\n",
        "    <tr>\n",
        "      <th>(8554647364.8, 9980421925.6]</th>\n",
        "      <td>   49738.054990</td>\n",
        "      <td>  984.284448</td>\n",
        "      <td>  11449.103604</td>\n",
        "      <td>   30740.611634</td>\n",
        "      <td>   4142.479228</td>\n",
        "      <td>   378.362696</td>\n",
        "      <td>   423.458426</td>\n",
        "      <td>   4735.743661</td>\n",
        "      <td>   86.344613</td>\n",
        "      <td>   4649.399048</td>\n",
        "      <td>   4735.743661</td>\n",
        "      <td>   47593.073915</td>\n",
        "      <td> 185856.305175</td>\n",
        "      <td> 9.283822e+09</td>\n",
        "      <td> 0</td>\n",
        "    </tr>\n",
        "    <tr>\n",
        "      <th>(9980421925.6, 11406196486.4]</th>\n",
        "      <td>   66859.572831</td>\n",
        "      <td> 1019.727294</td>\n",
        "      <td>  15435.660467</td>\n",
        "      <td>   43137.109888</td>\n",
        "      <td>   6184.659567</td>\n",
        "      <td>  1437.145556</td>\n",
        "      <td>   516.021720</td>\n",
        "      <td>   7924.595170</td>\n",
        "      <td>   42.175165</td>\n",
        "      <td>   7882.420004</td>\n",
        "      <td>   7924.595170</td>\n",
        "      <td>   54118.484983</td>\n",
        "      <td> 170598.604523</td>\n",
        "      <td> 1.069798e+10</td>\n",
        "      <td> 0</td>\n",
        "    </tr>\n",
        "    <tr>\n",
        "      <th>(11406196486.4, 12831971047.2]</th>\n",
        "      <td>   93545.648342</td>\n",
        "      <td>  947.949836</td>\n",
        "      <td>  23414.327645</td>\n",
        "      <td>   61732.098344</td>\n",
        "      <td>   9396.221470</td>\n",
        "      <td>  1716.852624</td>\n",
        "      <td>   605.040441</td>\n",
        "      <td>  11815.386530</td>\n",
        "      <td>   18.582148</td>\n",
        "      <td>  11796.804382</td>\n",
        "      <td>  11815.386530</td>\n",
        "      <td>   80501.845365</td>\n",
        "      <td> 155468.689858</td>\n",
        "      <td> 1.213929e+10</td>\n",
        "      <td> 0</td>\n",
        "    </tr>\n",
        "    <tr>\n",
        "      <th>(12831971047.2, 14257745608]</th>\n",
        "      <td> 1648432.188941</td>\n",
        "      <td>  272.616522</td>\n",
        "      <td> 186717.751759</td>\n",
        "      <td> 1465230.520696</td>\n",
        "      <td> 539062.467628</td>\n",
        "      <td> 30979.285314</td>\n",
        "      <td> 17774.945800</td>\n",
        "      <td> 465478.146006</td>\n",
        "      <td>    0.756847</td>\n",
        "      <td> 465477.389158</td>\n",
        "      <td> 465478.146006</td>\n",
        "      <td> 1626453.485882</td>\n",
        "      <td>  20755.518950</td>\n",
        "      <td> 1.403224e+10</td>\n",
        "      <td> 0</td>\n",
        "    </tr>\n",
        "  </tbody>\n",
        "</table>\n",
        "</div>"
       ],
       "metadata": {},
       "output_type": "pyout",
       "prompt_number": 24,
       "text": [
        "                                        c00100       c04100         c04470  \\\n",
        "wdecs                                                                        \n",
        "(0, 1425774560.8]               -378616.878933  4795.945705    4930.988638   \n",
        "(1425774560.8, 2851549121.6]       8063.666633  1986.477609    2206.630780   \n",
        "(2851549121.6, 4277323682.4]      14019.336573  1621.958699    3197.834089   \n",
        "(4277323682.4, 5703098243.2]      20385.448886  1309.247603    4169.295710   \n",
        "(5703098243.2, 7128872804]        27911.141907  1086.668125    5426.389532   \n",
        "(7128872804, 8554647364.8]        37219.055781  1071.944001    8139.944400   \n",
        "(8554647364.8, 9980421925.6]      49738.054990   984.284448   11449.103604   \n",
        "(9980421925.6, 11406196486.4]     66859.572831  1019.727294   15435.660467   \n",
        "(11406196486.4, 12831971047.2]    93545.648342   947.949836   23414.327645   \n",
        "(12831971047.2, 14257745608]    1648432.188941   272.616522  186717.751759   \n",
        "\n",
        "                                        c04800         c05200        c09600  \\\n",
        "wdecs                                                                         \n",
        "(0, 1425774560.8]                    57.555292       5.755529  16334.883778   \n",
        "(1425774560.8, 2851549121.6]       1799.835413     180.009313    322.996661   \n",
        "(2851549121.6, 4277323682.4]       4950.617503     517.601919    204.010324   \n",
        "(4277323682.4, 5703098243.2]       9505.866713    1075.731430    281.125864   \n",
        "(5703098243.2, 7128872804]        15057.624006    1805.838794    524.644823   \n",
        "(7128872804, 8554647364.8]        21901.541384    2750.774884    932.884519   \n",
        "(8554647364.8, 9980421925.6]      30740.611634    4142.479228    378.362696   \n",
        "(9980421925.6, 11406196486.4]     43137.109888    6184.659567   1437.145556   \n",
        "(11406196486.4, 12831971047.2]    61732.098344    9396.221470   1716.852624   \n",
        "(12831971047.2, 14257745608]    1465230.520696  539062.467628  30979.285314   \n",
        "\n",
        "                                      c07100         c09200      _refund  \\\n",
        "wdecs                                                                      \n",
        "(0, 1425774560.8]                  15.991279   17188.373897   112.518706   \n",
        "(1425774560.8, 2851549121.6]        8.913649     780.378860   691.432278   \n",
        "(2851549121.6, 4277323682.4]       86.064329    1035.519470  1329.553298   \n",
        "(4277323682.4, 5703098243.2]      194.325979    1537.244108  1176.942064   \n",
        "(5703098243.2, 7128872804]        298.489639    2460.765273   856.584117   \n",
        "(7128872804, 8554647364.8]        336.862740    3849.897108   362.587897   \n",
        "(8554647364.8, 9980421925.6]      423.458426    4735.743661    86.344613   \n",
        "(9980421925.6, 11406196486.4]     516.021720    7924.595170    42.175165   \n",
        "(11406196486.4, 12831971047.2]    605.040441   11815.386530    18.582148   \n",
        "(12831971047.2, 14257745608]    17774.945800  465478.146006     0.756847   \n",
        "\n",
        "                                     _ospctax         c10300          e00100  \\\n",
        "wdecs                                                                          \n",
        "(0, 1425774560.8]                17075.855191   17182.964194  -577699.051836   \n",
        "(1425774560.8, 2851549121.6]        88.946582     672.435026     5192.089848   \n",
        "(2851549121.6, 4277323682.4]      -294.033828     812.852469    10274.776702   \n",
        "(4277323682.4, 5703098243.2]       360.302044    1376.607748    19057.166254   \n",
        "(5703098243.2, 7128872804]        1604.181156    2332.366158    24107.393423   \n",
        "(7128872804, 8554647364.8]        3487.309211    3806.967022    26848.239954   \n",
        "(8554647364.8, 9980421925.6]      4649.399048    4735.743661    47593.073915   \n",
        "(9980421925.6, 11406196486.4]     7882.420004    7924.595170    54118.484983   \n",
        "(11406196486.4, 12831971047.2]   11796.804382   11815.386530    80501.845365   \n",
        "(12831971047.2, 14257745608]    465477.389158  465478.146006  1626453.485882   \n",
        "\n",
        "                                         s006  cumsum_weights  tax_diff  \n",
        "wdecs                                                                    \n",
        "(0, 1425774560.8]               112825.931861    3.762636e+08         0  \n",
        "(1425774560.8, 2851549121.6]    218953.482261    2.148335e+09         0  \n",
        "(2851549121.6, 4277323682.4]    215739.119667    3.560806e+09         0  \n",
        "(4277323682.4, 5703098243.2]    220458.579493    4.990454e+09         0  \n",
        "(5703098243.2, 7128872804]      215106.006939    6.417199e+09         0  \n",
        "(7128872804, 8554647364.8]      206861.772378    7.852203e+09         0  \n",
        "(8554647364.8, 9980421925.6]    185856.305175    9.283822e+09         0  \n",
        "(9980421925.6, 11406196486.4]   170598.604523    1.069798e+10         0  \n",
        "(11406196486.4, 12831971047.2]  155468.689858    1.213929e+10         0  \n",
        "(12831971047.2, 14257745608]     20755.518950    1.403224e+10         0  "
       ]
      }
     ],
     "prompt_number": 24
    },
    {
     "cell_type": "code",
     "collapsed": false,
     "input": [
      "create_difference_table(calc1, calc2, groupby=\"weighted_decile\"/\"agi_bin\")"
     ],
     "language": "python",
     "metadata": {},
     "outputs": []
    },
    {
     "cell_type": "code",
     "collapsed": false,
     "input": [
      "diffs_dec"
     ],
     "language": "python",
     "metadata": {},
     "outputs": [
      {
       "html": [
        "<div style=\"max-height:1000px;max-width:1500px;overflow:auto;\">\n",
        "<table border=\"1\" class=\"dataframe\">\n",
        "  <thead>\n",
        "    <tr style=\"text-align: right;\">\n",
        "      <th></th>\n",
        "      <th>tax_cut</th>\n",
        "      <th>tax_inc</th>\n",
        "      <th>count</th>\n",
        "      <th>mean</th>\n",
        "      <th>tot_change</th>\n",
        "      <th>perc_inc</th>\n",
        "      <th>perc_cut</th>\n",
        "      <th>share_of_change</th>\n",
        "    </tr>\n",
        "    <tr>\n",
        "      <th>wdecs</th>\n",
        "      <th></th>\n",
        "      <th></th>\n",
        "      <th></th>\n",
        "      <th></th>\n",
        "      <th></th>\n",
        "      <th></th>\n",
        "      <th></th>\n",
        "      <th></th>\n",
        "    </tr>\n",
        "  </thead>\n",
        "  <tbody>\n",
        "    <tr>\n",
        "      <th>(0, 1425774560.8]</th>\n",
        "      <td> 0</td>\n",
        "      <td> 0</td>\n",
        "      <td> 12636</td>\n",
        "      <td> 0</td>\n",
        "      <td> 0</td>\n",
        "      <td> 0</td>\n",
        "      <td> 0</td>\n",
        "      <td>NaN</td>\n",
        "    </tr>\n",
        "    <tr>\n",
        "      <th>(1425774560.8, 2851549121.6]</th>\n",
        "      <td> 0</td>\n",
        "      <td> 0</td>\n",
        "      <td>  6511</td>\n",
        "      <td> 0</td>\n",
        "      <td> 0</td>\n",
        "      <td> 0</td>\n",
        "      <td> 0</td>\n",
        "      <td>NaN</td>\n",
        "    </tr>\n",
        "    <tr>\n",
        "      <th>(2851549121.6, 4277323682.4]</th>\n",
        "      <td> 0</td>\n",
        "      <td> 0</td>\n",
        "      <td>  6610</td>\n",
        "      <td> 0</td>\n",
        "      <td> 0</td>\n",
        "      <td> 0</td>\n",
        "      <td> 0</td>\n",
        "      <td>NaN</td>\n",
        "    </tr>\n",
        "    <tr>\n",
        "      <th>(4277323682.4, 5703098243.2]</th>\n",
        "      <td> 0</td>\n",
        "      <td> 0</td>\n",
        "      <td>  6466</td>\n",
        "      <td> 0</td>\n",
        "      <td> 0</td>\n",
        "      <td> 0</td>\n",
        "      <td> 0</td>\n",
        "      <td>NaN</td>\n",
        "    </tr>\n",
        "    <tr>\n",
        "      <th>(5703098243.2, 7128872804]</th>\n",
        "      <td> 0</td>\n",
        "      <td> 0</td>\n",
        "      <td>  6629</td>\n",
        "      <td> 0</td>\n",
        "      <td> 0</td>\n",
        "      <td> 0</td>\n",
        "      <td> 0</td>\n",
        "      <td>NaN</td>\n",
        "    </tr>\n",
        "    <tr>\n",
        "      <th>(7128872804, 8554647364.8]</th>\n",
        "      <td> 0</td>\n",
        "      <td> 0</td>\n",
        "      <td>  6893</td>\n",
        "      <td> 0</td>\n",
        "      <td> 0</td>\n",
        "      <td> 0</td>\n",
        "      <td> 0</td>\n",
        "      <td>NaN</td>\n",
        "    </tr>\n",
        "    <tr>\n",
        "      <th>(8554647364.8, 9980421925.6]</th>\n",
        "      <td> 0</td>\n",
        "      <td> 0</td>\n",
        "      <td>  7671</td>\n",
        "      <td> 0</td>\n",
        "      <td> 0</td>\n",
        "      <td> 0</td>\n",
        "      <td> 0</td>\n",
        "      <td>NaN</td>\n",
        "    </tr>\n",
        "    <tr>\n",
        "      <th>(9980421925.6, 11406196486.4]</th>\n",
        "      <td> 0</td>\n",
        "      <td> 0</td>\n",
        "      <td>  8357</td>\n",
        "      <td> 0</td>\n",
        "      <td> 0</td>\n",
        "      <td> 0</td>\n",
        "      <td> 0</td>\n",
        "      <td>NaN</td>\n",
        "    </tr>\n",
        "    <tr>\n",
        "      <th>(11406196486.4, 12831971047.2]</th>\n",
        "      <td> 0</td>\n",
        "      <td> 0</td>\n",
        "      <td>  9170</td>\n",
        "      <td> 0</td>\n",
        "      <td> 0</td>\n",
        "      <td> 0</td>\n",
        "      <td> 0</td>\n",
        "      <td>NaN</td>\n",
        "    </tr>\n",
        "    <tr>\n",
        "      <th>(12831971047.2, 14257745608]</th>\n",
        "      <td> 0</td>\n",
        "      <td> 0</td>\n",
        "      <td> 68708</td>\n",
        "      <td> 0</td>\n",
        "      <td> 0</td>\n",
        "      <td> 0</td>\n",
        "      <td> 0</td>\n",
        "      <td>NaN</td>\n",
        "    </tr>\n",
        "  </tbody>\n",
        "</table>\n",
        "</div>"
       ],
       "metadata": {},
       "output_type": "pyout",
       "prompt_number": 25,
       "text": [
        "                                tax_cut  tax_inc  count  mean  tot_change  \\\n",
        "wdecs                                                                       \n",
        "(0, 1425774560.8]                     0        0  12636     0           0   \n",
        "(1425774560.8, 2851549121.6]          0        0   6511     0           0   \n",
        "(2851549121.6, 4277323682.4]          0        0   6610     0           0   \n",
        "(4277323682.4, 5703098243.2]          0        0   6466     0           0   \n",
        "(5703098243.2, 7128872804]            0        0   6629     0           0   \n",
        "(7128872804, 8554647364.8]            0        0   6893     0           0   \n",
        "(8554647364.8, 9980421925.6]          0        0   7671     0           0   \n",
        "(9980421925.6, 11406196486.4]         0        0   8357     0           0   \n",
        "(11406196486.4, 12831971047.2]        0        0   9170     0           0   \n",
        "(12831971047.2, 14257745608]          0        0  68708     0           0   \n",
        "\n",
        "                                perc_inc  perc_cut  share_of_change  \n",
        "wdecs                                                                \n",
        "(0, 1425774560.8]                      0         0              NaN  \n",
        "(1425774560.8, 2851549121.6]           0         0              NaN  \n",
        "(2851549121.6, 4277323682.4]           0         0              NaN  \n",
        "(4277323682.4, 5703098243.2]           0         0              NaN  \n",
        "(5703098243.2, 7128872804]             0         0              NaN  \n",
        "(7128872804, 8554647364.8]             0         0              NaN  \n",
        "(8554647364.8, 9980421925.6]           0         0              NaN  \n",
        "(9980421925.6, 11406196486.4]          0         0              NaN  \n",
        "(11406196486.4, 12831971047.2]         0         0              NaN  \n",
        "(12831971047.2, 14257745608]           0         0              NaN  "
       ]
      }
     ],
     "prompt_number": 25
    },
    {
     "cell_type": "code",
     "collapsed": false,
     "input": [],
     "language": "python",
     "metadata": {},
     "outputs": []
    },
    {
     "cell_type": "code",
     "collapsed": false,
     "input": [],
     "language": "python",
     "metadata": {},
     "outputs": []
    }
   ],
   "metadata": {}
  }
 ]
}
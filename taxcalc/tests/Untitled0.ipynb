{
 "metadata": {
  "name": "",
  "signature": "sha256:6804934ba6a54db2b1370a99b92091aef6bd621aa5851cc46d8aa475aa9e2725"
 },
 "nbformat": 3,
 "nbformat_minor": 0,
 "worksheets": []
}
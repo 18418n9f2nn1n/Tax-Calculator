{
 "metadata": {
  "name": "",
  "signature": "sha256:8f30742b89033d9690e29bc827b2dc3371ff5d86bc86b3e743c3a3be0b0971d6"
 },
 "nbformat": 3,
 "nbformat_minor": 0,
 "worksheets": [
  {
   "cells": [
    {
     "cell_type": "code",
     "collapsed": false,
     "input": [
      "cd /Users/Matt.Jensen/proj/Tax-Calculator"
     ],
     "language": "python",
     "metadata": {},
     "outputs": [
      {
       "output_type": "stream",
       "stream": "stdout",
       "text": [
        "/Users/Matt.Jensen/proj/Tax-Calculator\n"
       ]
      }
     ],
     "prompt_number": 1
    },
    {
     "cell_type": "code",
     "collapsed": false,
     "input": [
      "from taxcalc import Calculator, PUF, Parameters, calculator, Behavior, behavior\n",
      "\n",
      "import pandas as pd\n"
     ],
     "language": "python",
     "metadata": {},
     "outputs": [],
     "prompt_number": 2
    },
    {
     "cell_type": "code",
     "collapsed": false,
     "input": [
      "tax_dta = pd.read_csv(\"puf2.csv\")\n",
      "records1 = PUF(tax_dta)\n",
      "records2 = PUF(tax_dta)\n",
      "params1 = Parameters(start_year=2013)\n",
      "params2 = Parameters(start_year=2013)"
     ],
     "language": "python",
     "metadata": {},
     "outputs": [],
     "prompt_number": 3
    },
    {
     "cell_type": "code",
     "collapsed": false,
     "input": [
      "calc1 = Calculator(params1, records1)\n",
      "calc2 = Calculator(params2, records2)\n",
      "print calc2.e00200\n",
      "\n"
     ],
     "language": "python",
     "metadata": {},
     "outputs": [
      {
       "output_type": "stream",
       "stream": "stdout",
       "text": [
        "[ 26280  19280  28740 ..., 271100      0  38180]\n"
       ]
      }
     ],
     "prompt_number": 4
    },
    {
     "cell_type": "code",
     "collapsed": false,
     "input": [
      "calc2.rt7 = calc2.rt7 + .1\n",
      "print calc1.rt7\n",
      "print calc2.rt7"
     ],
     "language": "python",
     "metadata": {},
     "outputs": [
      {
       "output_type": "stream",
       "stream": "stdout",
       "text": [
        "0.396\n",
        "0.496\n"
       ]
      }
     ],
     "prompt_number": 5
    },
    {
     "cell_type": "code",
     "collapsed": false,
     "input": [
      "calc2 = Behavior(calc1, calc2).behavior"
     ],
     "language": "python",
     "metadata": {},
     "outputs": [
      {
       "output_type": "stream",
       "stream": "stdout",
       "text": [
        "mtrX\n",
        "[ 0.15    0.15    0.15   ...,  0.4158  0.      0.    ]\n",
        "mtrY"
       ]
      },
      {
       "output_type": "stream",
       "stream": "stdout",
       "text": [
        "\n",
        "[ 0.15    0.15    0.15   ...,  0.5208  0.      0.    ]\n",
        "substitution_effect\n",
        "[     0.              0.              0.         ..., -38088.00538785\n",
        "      0.              0.        ]\n",
        "income_effect\n",
        "[     0.           0.           0.      ...,  15300.75825      0.           0.     ]\n"
       ]
      }
     ],
     "prompt_number": 6
    },
    {
     "cell_type": "code",
     "collapsed": false,
     "input": [
      "print calc2.e00200\n"
     ],
     "language": "python",
     "metadata": {},
     "outputs": [
      {
       "output_type": "stream",
       "stream": "stdout",
       "text": [
        "[  26280.           19280.           28740.         ...,  263074.80375837\n",
        "       0.           38180.        ]\n"
       ]
      }
     ],
     "prompt_number": 7
    },
    {
     "cell_type": "code",
     "collapsed": false,
     "input": [],
     "language": "python",
     "metadata": {},
     "outputs": [],
     "prompt_number": 0
    },
    {
     "cell_type": "code",
     "collapsed": false,
     "input": [],
     "language": "python",
     "metadata": {},
     "outputs": []
    }
   ],
   "metadata": {}
  }
 ]
}
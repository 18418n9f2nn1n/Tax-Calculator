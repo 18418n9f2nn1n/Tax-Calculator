{
 "metadata": {
  "name": "",
  "signature": "sha256:a1b501f3555af402b487035ee6b9f898d74f20d72872e15f1556c99308c9e1e9"
 },
 "nbformat": 3,
 "nbformat_minor": 0,
 "worksheets": [
  {
   "cells": [
    {
     "cell_type": "heading",
     "level": 1,
     "metadata": {},
     "source": [
      "How to use the Tax Calculator"
     ]
    },
    {
     "cell_type": "markdown",
     "metadata": {},
     "source": [
      "All kinds of great text can go here, with [links](http://www.nber.org) to relevant sites!"
     ]
    },
    {
     "cell_type": "heading",
     "level": 3,
     "metadata": {},
     "source": [
      "This is where we can put some great documentation"
     ]
    },
    {
     "cell_type": "heading",
     "level": 3,
     "metadata": {},
     "source": [
      "Different headings are available, and then you can go right to the code:"
     ]
    },
    {
     "cell_type": "code",
     "collapsed": false,
     "input": [
      "import taxcalc\n",
      "from taxcalc import *\n",
      "import pandas as pd\n",
      "from pandas import DataFrame"
     ],
     "language": "python",
     "metadata": {},
     "outputs": [],
     "prompt_number": 1
    },
    {
     "cell_type": "heading",
     "level": 3,
     "metadata": {},
     "source": [
      "Start with a default plan"
     ]
    },
    {
     "cell_type": "code",
     "collapsed": false,
     "input": [
      "# Default Plans\n",
      "#Create a Public Use File object\n",
      "tax_dta = pd.read_csv(\"puf2.csv\")\n",
      "# Create a default Parameters object\n",
      "params = Parameters(start_year=2013)\n",
      "records = PUF(tax_dta)\n",
      "# Create a Calculator\n",
      "calc1 = Calculator(parameters=params, puf=records)\n"
     ],
     "language": "python",
     "metadata": {},
     "outputs": [],
     "prompt_number": 2
    },
    {
     "cell_type": "code",
     "collapsed": false,
     "input": [
      "calc1.calc_all()"
     ],
     "language": "python",
     "metadata": {},
     "outputs": [],
     "prompt_number": 3
    },
    {
     "cell_type": "code",
     "collapsed": false,
     "input": [
      "calc1.c00100.mean()"
     ],
     "language": "python",
     "metadata": {},
     "outputs": [
      {
       "metadata": {},
       "output_type": "pyout",
       "prompt_number": 4,
       "text": [
        "794787.95134102157"
       ]
      }
     ],
     "prompt_number": 4
    },
    {
     "cell_type": "code",
     "collapsed": false,
     "input": [
      "calc1.e00200 += 2000"
     ],
     "language": "python",
     "metadata": {},
     "outputs": [],
     "prompt_number": 5
    },
    {
     "cell_type": "code",
     "collapsed": false,
     "input": [
      "calc1.calc_all()"
     ],
     "language": "python",
     "metadata": {},
     "outputs": [],
     "prompt_number": 6
    },
    {
     "cell_type": "code",
     "collapsed": false,
     "input": [
      "calc1.c00100.mean()"
     ],
     "language": "python",
     "metadata": {},
     "outputs": [
      {
       "metadata": {},
       "output_type": "pyout",
       "prompt_number": 7,
       "text": [
        "796833.51042545342"
       ]
      }
     ],
     "prompt_number": 7
    },
    {
     "cell_type": "code",
     "collapsed": false,
     "input": [
      "taxcalc.__file__"
     ],
     "language": "python",
     "metadata": {},
     "outputs": [
      {
       "metadata": {},
       "output_type": "pyout",
       "prompt_number": 8,
       "text": [
        "'/Users/talumbau/dev/aei_dec29/Tax-Calculator/taxcalc/__init__.py'"
       ]
      }
     ],
     "prompt_number": 8
    },
    {
     "cell_type": "code",
     "collapsed": false,
     "input": [
      "x = getattr(calc1, 'c00100')"
     ],
     "language": "python",
     "metadata": {},
     "outputs": [],
     "prompt_number": 9
    },
    {
     "cell_type": "code",
     "collapsed": false,
     "input": [
      "x = calc1.c00100"
     ],
     "language": "python",
     "metadata": {},
     "outputs": [],
     "prompt_number": 10
    },
    {
     "cell_type": "heading",
     "level": 3,
     "metadata": {},
     "source": [
      "Then modify the existing tax code parameters"
     ]
    },
    {
     "cell_type": "code",
     "collapsed": false,
     "input": [
      "# User specified Plans\n",
      "params = Parameters(start_year=start_year)\n",
      "# Create a Calculator\n",
      "calc3 = calculator(parameters=params, puf=records, mods=user_mods)\n",
      "calc3.calc_all()\n",
      "\n",
      "    meansY_dec, diffs_dec, meansY_bins, diffs_bins = \\\n",
      "        groupby_means_and_comparisons(calc, calc2)"
     ],
     "language": "python",
     "metadata": {},
     "outputs": []
    }
   ],
   "metadata": {}
  }
 ]
}
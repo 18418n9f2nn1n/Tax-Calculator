{
 "metadata": {
  "name": "",
  "signature": "sha256:da4b15f4d1319b8dba185b5f9cda6ac86dc86ced0706ff4f9b86003814bb8c82"
 },
 "nbformat": 3,
 "nbformat_minor": 0,
 "worksheets": [
  {
   "cells": [
    {
     "cell_type": "heading",
     "level": 1,
     "metadata": {},
     "source": [
      "Incorporating micro-feedback effects"
     ]
    },
    {
     "cell_type": "code",
     "collapsed": false,
     "input": [
      "import sys\n",
      "sys.path.append(\"../\")\n",
      "import taxcalc\n",
      "from taxcalc import *\n",
      "import pandas as pd\n",
      "import numpy as np"
     ],
     "language": "python",
     "metadata": {},
     "outputs": [],
     "prompt_number": 1
    },
    {
     "cell_type": "heading",
     "level": 3,
     "metadata": {},
     "source": [
      "Start by creating a Calculator for Plan X and a calculator for Plan Y. "
     ]
    },
    {
     "cell_type": "code",
     "collapsed": false,
     "input": [
      "# Create a Records object for Plan X and Plan Y\n",
      "records_x = Records(\"../puf2.csv\", \"../StageIFactors.csv\", \"../WEIGHTS.csv\")\n",
      "records_y = Records(\"../puf2.csv\", \"../StageIFactors.csv\", \"../WEIGHTS.csv\")\n",
      "# Create a Parameters object for Plan X and Plan Y\n",
      "params_x = Parameters(start_year=2013)\n",
      "params_y = Parameters(start_year=2013)\n",
      "# Create two Calculators\n",
      "calc_x = Calculator(parameters=params_x, records=records_x)\n",
      "calc_y = Calculator(parameters=params_y, records=records_y)\n"
     ],
     "language": "python",
     "metadata": {},
     "outputs": [],
     "prompt_number": 2
    },
    {
     "cell_type": "heading",
     "level": 3,
     "metadata": {},
     "source": [
      "Increase the top marginal tax rate by 10 percentage points "
     ]
    },
    {
     "cell_type": "code",
     "collapsed": false,
     "input": [
      "# Modify the relevant parameter for the Plan-Y Calculator.\n",
      "calc_y.rt7 = calc_y.rt7 + .1\n",
      "# Demonstrate that Plan X and Plan Y calculators are indeed different. \n",
      "print(calc_x.rt7)\n",
      "print(calc_y.rt7)"
     ],
     "language": "python",
     "metadata": {},
     "outputs": [
      {
       "output_type": "stream",
       "stream": "stdout",
       "text": [
        "0.396\n",
        "0.496\n"
       ]
      }
     ],
     "prompt_number": 3
    },
    {
     "cell_type": "heading",
     "level": 3,
     "metadata": {},
     "source": [
      "Update taxpayers' income to account for the rate hike with our behavioral effects calculator"
     ]
    },
    {
     "cell_type": "code",
     "collapsed": false,
     "input": [
      "# Call the behavioral effects calculator and create a new Plan Y Calculator obect. \n",
      "calc_y_behavioral = behavior(calc_x, calc_y)\n",
      "# Demonstrate that taxpayers' income was affected by the tax change.\n",
      "print(np.sum(calc_y.e00200))\n",
      "print(np.sum(calc_y_behavioral.e00200))"
     ],
     "language": "python",
     "metadata": {},
     "outputs": [
      {
       "output_type": "stream",
       "stream": "stdout",
       "text": [
        "39476697078\n",
        "beginning\n",
        "[ 26280  19280  28740 ..., 271100      0  38180]\n",
        "end"
       ]
      },
      {
       "output_type": "stream",
       "stream": "stdout",
       "text": [
        "\n",
        "[ 26280  19280  28740 ..., 271100      0  38180]\n",
        "39476697078\n",
        "39093607156.9\n"
       ]
      }
     ],
     "prompt_number": 4
    },
    {
     "cell_type": "heading",
     "level": 3,
     "metadata": {},
     "source": [
      "Now you can run the tax calculations to get your new tax liabilities with microfeedback effects incorporated. \n"
     ]
    },
    {
     "cell_type": "code",
     "collapsed": false,
     "input": [
      "calc_y_behavioral.calc_all()"
     ],
     "language": "python",
     "metadata": {},
     "outputs": [],
     "prompt_number": 7
    },
    {
     "cell_type": "code",
     "collapsed": false,
     "input": [],
     "language": "python",
     "metadata": {},
     "outputs": []
    }
   ],
   "metadata": {}
  }
 ]
}
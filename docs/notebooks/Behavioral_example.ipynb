{
 "cells": [
  {
   "cell_type": "markdown",
   "metadata": {},
   "source": [
    "# Incorporating micro-feedback effects"
   ]
  },
  {
   "cell_type": "code",
   "execution_count": 1,
   "metadata": {
    "collapsed": false
   },
   "outputs": [],
   "source": [
    "import sys\n",
    "sys.path.append(\"../../\")\n",
    "import taxcalc\n",
    "from taxcalc import *\n",
    "import pandas as pd\n",
    "import numpy as np"
   ]
  },
  {
   "cell_type": "markdown",
   "metadata": {},
   "source": [
    "### Start by creating a Calculator for Plan X and a calculator for Plan Y. "
   ]
  },
  {
   "cell_type": "code",
   "execution_count": 2,
   "metadata": {
    "collapsed": false
   },
   "outputs": [
    {
     "name": "stdout",
     "output_type": "stream",
     "text": [
      "You loaded data for 2008.\n",
      "Your data have beeen extrapolated to 2013.\n",
      "You loaded data for 2008.\n",
      "Your data have beeen extrapolated to 2013.\n"
     ]
    }
   ],
   "source": [
    "# Create a Records object for Plan X and Plan Y\n",
    "records_x = Records(\"../../puf.csv\")\n",
    "records_y = Records(\"../../puf.csv\")\n",
    "# Create a Parameters object for Plan X and Plan Y\n",
    "params_x = Parameters()\n",
    "params_y = Parameters()\n",
    "\n",
    "# Create two Calculators\n",
    "calcX = Calculator(params_x, records_x)\n",
    "calcY = Calculator(params_y, records_y)\n"
   ]
  },
  {
   "cell_type": "markdown",
   "metadata": {},
   "source": [
    "### Increase the top marginal tax rate by 10 percentage points "
   ]
  },
  {
   "cell_type": "code",
   "execution_count": 3,
   "metadata": {
    "collapsed": false
   },
   "outputs": [
    {
     "name": "stdout",
     "output_type": "stream",
     "text": [
      "0.396\n",
      "0.496\n"
     ]
    }
   ],
   "source": [
    "# Modify the relevant parameter for the Plan-Y Calculator.\n",
    "reform = {2013: {\"_II_rt7\": [0.496]}}\n",
    "params_y.implement_reform(reform)\n",
    "# Demonstrate that Plan X and Plan Y calculators are indeed different. \n",
    "print(calcX.params.II_rt7)\n",
    "print(calcY.params.II_rt7)"
   ]
  },
  {
   "cell_type": "markdown",
   "metadata": {},
   "source": [
    "### Update taxpayers' income to account for the rate hike with our behavioral effects calculator"
   ]
  },
  {
   "cell_type": "code",
   "execution_count": 5,
   "metadata": {
    "collapsed": false
   },
   "outputs": [],
   "source": [
    "# Call the behavioral effects calculator and create new Plan Y Calculator obects. \n",
    "calcY_behavior1 = behavior(calcX, calcY, elast_wrt_atr=0.4, inc_effect=0.15)\n",
    "calcY_behavior2 = behavior(calcX, calcY, elast_wrt_atr=0.5, inc_effect=0.15)\n",
    "calcY_behavior3 = behavior(calcX, calcY, elast_wrt_atr=0.4, inc_effect=0)                           "
   ]
  },
  {
   "cell_type": "code",
   "execution_count": 6,
   "metadata": {
    "collapsed": false
   },
   "outputs": [
    {
     "name": "stdout",
     "output_type": "stream",
     "text": [
      "41369571634.6\n",
      "39692329135.5\n",
      "39198175031.3\n",
      "39392955217.6\n"
     ]
    }
   ],
   "source": [
    "# Demonstrate that taxpayers' income was affected by the behavioral effects.\n",
    "print(calcY.records.e00200.sum())\n",
    "print(calcY_behavior1.records.e00200.sum())\n",
    "print(calcY_behavior2.records.e00200.sum())\n",
    "print(calcY_behavior3.records.e00200.sum())"
   ]
  },
  {
   "cell_type": "code",
   "execution_count": 7,
   "metadata": {
    "collapsed": false
   },
   "outputs": [
    {
     "name": "stdout",
     "output_type": "stream",
     "text": [
      "35983805321.6\n",
      "41125791308.9\n",
      "38761662109.1\n",
      "38096322633.7\n",
      "38378249854.0\n"
     ]
    }
   ],
   "source": [
    "# Demonstrate that total tax was affected by the behavioral effects. \n",
    "print(calcX.records._ospctax.sum())\n",
    "print(calcY.records._ospctax.sum())\n",
    "print(calcY_behavior1.records._ospctax.sum())\n",
    "print(calcY_behavior2.records._ospctax.sum())\n",
    "print(calcY_behavior3.records._ospctax.sum())"
   ]
  }
 ],
 "metadata": {
  "kernelspec": {
   "display_name": "Python 2",
   "language": "python",
   "name": "python2"
  },
  "language_info": {
   "codemirror_mode": {
    "name": "ipython",
    "version": 2
   },
   "file_extension": ".py",
   "mimetype": "text/x-python",
   "name": "python",
   "nbconvert_exporter": "python",
   "pygments_lexer": "ipython2",
   "version": "2.7.10"
  }
 },
 "nbformat": 4,
 "nbformat_minor": 0
}
